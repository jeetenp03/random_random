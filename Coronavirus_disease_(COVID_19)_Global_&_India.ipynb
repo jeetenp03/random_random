{
  "nbformat": 4,
  "nbformat_minor": 0,
  "metadata": {
    "kernelspec": {
      "language": "python",
      "display_name": "Python 3",
      "name": "python3"
    },
    "language_info": {
      "pygments_lexer": "ipython3",
      "nbconvert_exporter": "python",
      "version": "3.6.4",
      "file_extension": ".py",
      "codemirror_mode": {
        "name": "ipython",
        "version": 3
      },
      "name": "python",
      "mimetype": "text/x-python"
    },
    "colab": {
      "name": "Coronavirus disease (COVID-19) Global & India.ipynb",
      "provenance": [],
      "include_colab_link": true
    }
  },
  "cells": [
    {
      "cell_type": "markdown",
      "metadata": {
        "id": "view-in-github",
        "colab_type": "text"
      },
      "source": [
        "<a href=\"https://colab.research.google.com/github/jeetenp03/random_random/blob/master/Coronavirus_disease_(COVID_19)_Global_%26_India.ipynb\" target=\"_parent\"><img src=\"https://colab.research.google.com/assets/colab-badge.svg\" alt=\"Open In Colab\"/></a>"
      ]
    },
    {
      "cell_type": "markdown",
      "metadata": {
        "id": "9542zdBb5677",
        "colab_type": "text"
      },
      "source": [
        "# Coronavirus disease (COVID-19): Global & India\n",
        "\n",
        "Analysis of Database of publications on 24th March 2020 by Johns Hopkins University & Ministry of Health and Family Welfare India\n",
        "\n",
        "By- Jeeten Patel"
      ]
    },
    {
      "cell_type": "markdown",
      "metadata": {
        "id": "Ibg8mq56567-",
        "colab_type": "text"
      },
      "source": [
        "![](https://www.who.int/images/default-source/health-topics/coronavirus/corona-virus-getty.tmb-1920v.jpg?Culture=en&amp;sfvrsn=217a6a68_6&quot)"
      ]
    },
    {
      "cell_type": "markdown",
      "metadata": {
        "id": "V5sl_vkp568A",
        "colab_type": "text"
      },
      "source": [
        "## Data Source\n",
        "\n",
        "https://data.humdata.org/dataset/novel-coronavirus-2019-ncov-cases\n",
        "\n",
        "The data is compiled by the Johns Hopkins University Center for Systems Science and Engineering (JHU CCSE) from various sources including the World Health Organization (WHO), DXY.cn. Pneumonia. 2020, BNO News, National Health Commission of the People’s Republic of China (NHC), China CDC (CCDC), Hong Kong Department of Health, Macau Government, Taiwan CDC, US CDC, Government of Canada, Australia Government Department of Health, European Centre for Disease Prevention and Control (ECDC), Ministry of Health Singapore (MOH)"
      ]
    },
    {
      "cell_type": "markdown",
      "metadata": {
        "id": "o92TtlpT568E",
        "colab_type": "text"
      },
      "source": [
        "Data source: https://www.mohfw.gov.in"
      ]
    },
    {
      "cell_type": "markdown",
      "metadata": {
        "id": "rTE6_IYo568G",
        "colab_type": "text"
      },
      "source": [
        "## Importing libraries"
      ]
    },
    {
      "cell_type": "code",
      "metadata": {
        "_uuid": "8f2839f25d086af736a60e9eeb907d3b93b6e0e5",
        "_cell_guid": "b1076dfc-b9ad-4769-8c92-a6c4dae69d19",
        "trusted": true,
        "id": "WN9fPKPE568K",
        "colab_type": "code",
        "colab": {
          "base_uri": "https://localhost:8080/",
          "height": 130
        },
        "outputId": "2bae1f94-c94a-4da9-d7ed-8afaf028649f"
      },
      "source": [
        "#Processing\n",
        "import numpy as np # linear algebra\n",
        "import pandas as pd # data analysis , CSV file I/O (e.g. pd.read_csv)\n",
        "\n",
        "#Visualization\n",
        "import seaborn as sns\n",
        "import plotly.express as px # plotting library\n",
        "import matplotlib.pyplot as plt # plotting library\n",
        "import folium # plotting library\n",
        "import folium.plugins as plugins\n",
        "#import geopandas as gpd\n",
        "from folium.plugins import TimestampedGeoJson\n",
        "%matplotlib inline \n",
        "\n",
        "import plotly.express as px\n",
        "import plotly.graph_objects as go\n",
        "\n",
        "from sklearn.cluster import KMeans \n",
        "from sklearn.datasets.samples_generator import make_blobs\n",
        "\n",
        "print('Libraries imported.')\n",
        "\n",
        "# tranforming json file into a pandas dataframe library\n",
        "from pandas.io.json import json_normalize\n",
        "\n",
        "import os\n",
        "for dirname, _, filenames in os.walk('/kaggle/input'):\n",
        "    for filename in filenames:\n",
        "        print(os.path.join(dirname, filename))"
      ],
      "execution_count": 2,
      "outputs": [
        {
          "output_type": "stream",
          "text": [
            "Libraries imported.\n"
          ],
          "name": "stdout"
        },
        {
          "output_type": "stream",
          "text": [
            "/usr/local/lib/python3.6/dist-packages/sklearn/utils/deprecation.py:144: FutureWarning:\n",
            "\n",
            "The sklearn.datasets.samples_generator module is  deprecated in version 0.22 and will be removed in version 0.24. The corresponding classes / functions should instead be imported from sklearn.datasets. Anything that cannot be imported from sklearn.datasets is now part of the private API.\n",
            "\n"
          ],
          "name": "stderr"
        }
      ]
    },
    {
      "cell_type": "markdown",
      "metadata": {
        "id": "c0ntF5hV568Z",
        "colab_type": "text"
      },
      "source": [
        "## Data Analysis"
      ]
    },
    {
      "cell_type": "code",
      "metadata": {
        "_cell_guid": "",
        "_uuid": "",
        "trusted": true,
        "id": "SK0W4yga568b",
        "colab_type": "code",
        "colab": {
          "base_uri": "https://localhost:8080/",
          "height": 552
        },
        "outputId": "fe714eed-9321-4443-c296-ce99e79e6aa9"
      },
      "source": [
        "# Loading files from kaggle Database\n",
        "import pandas as pd\n",
        "#COVID_confirmed = pd.read_csv('../input/novel-corona-virus-2019-dataset/time_series_covid_19_confirmed.csv')\n",
        "#COVID_death = pd.read_csv('../input/novel-corona-virus-2019-dataset/time_series_covid_19_deaths.csv')\n",
        "#COVID_recovered = pd.read_csv('../input/novel-corona-virus-2019-dataset/time_series_covid_19_recovered.csv')\n",
        "COVID_India = pd.read_csv(\"https://github.com/imdevskp/covid-19-india-data/blob/master/complete.csv\")"
      ],
      "execution_count": 11,
      "outputs": [
        {
          "output_type": "error",
          "ename": "ParserError",
          "evalue": "ignored",
          "traceback": [
            "\u001b[0;31m---------------------------------------------------------------------------\u001b[0m",
            "\u001b[0;31mParserError\u001b[0m                               Traceback (most recent call last)",
            "\u001b[0;32m<ipython-input-11-3bbd5c4269d8>\u001b[0m in \u001b[0;36m<module>\u001b[0;34m()\u001b[0m\n\u001b[1;32m      4\u001b[0m \u001b[0;31m#COVID_death = pd.read_csv('../input/novel-corona-virus-2019-dataset/time_series_covid_19_deaths.csv')\u001b[0m\u001b[0;34m\u001b[0m\u001b[0;34m\u001b[0m\u001b[0;34m\u001b[0m\u001b[0m\n\u001b[1;32m      5\u001b[0m \u001b[0;31m#COVID_recovered = pd.read_csv('../input/novel-corona-virus-2019-dataset/time_series_covid_19_recovered.csv')\u001b[0m\u001b[0;34m\u001b[0m\u001b[0;34m\u001b[0m\u001b[0;34m\u001b[0m\u001b[0m\n\u001b[0;32m----> 6\u001b[0;31m \u001b[0mCOVID_India\u001b[0m \u001b[0;34m=\u001b[0m \u001b[0mpd\u001b[0m\u001b[0;34m.\u001b[0m\u001b[0mread_csv\u001b[0m\u001b[0;34m(\u001b[0m\u001b[0;34m\"https://github.com/imdevskp/covid-19-india-data/blob/master/complete.csv\"\u001b[0m\u001b[0;34m)\u001b[0m\u001b[0;34m\u001b[0m\u001b[0;34m\u001b[0m\u001b[0m\n\u001b[0m",
            "\u001b[0;32m/usr/local/lib/python3.6/dist-packages/pandas/io/parsers.py\u001b[0m in \u001b[0;36mparser_f\u001b[0;34m(filepath_or_buffer, sep, delimiter, header, names, index_col, usecols, squeeze, prefix, mangle_dupe_cols, dtype, engine, converters, true_values, false_values, skipinitialspace, skiprows, skipfooter, nrows, na_values, keep_default_na, na_filter, verbose, skip_blank_lines, parse_dates, infer_datetime_format, keep_date_col, date_parser, dayfirst, cache_dates, iterator, chunksize, compression, thousands, decimal, lineterminator, quotechar, quoting, doublequote, escapechar, comment, encoding, dialect, error_bad_lines, warn_bad_lines, delim_whitespace, low_memory, memory_map, float_precision)\u001b[0m\n\u001b[1;32m    674\u001b[0m         )\n\u001b[1;32m    675\u001b[0m \u001b[0;34m\u001b[0m\u001b[0m\n\u001b[0;32m--> 676\u001b[0;31m         \u001b[0;32mreturn\u001b[0m \u001b[0m_read\u001b[0m\u001b[0;34m(\u001b[0m\u001b[0mfilepath_or_buffer\u001b[0m\u001b[0;34m,\u001b[0m \u001b[0mkwds\u001b[0m\u001b[0;34m)\u001b[0m\u001b[0;34m\u001b[0m\u001b[0;34m\u001b[0m\u001b[0m\n\u001b[0m\u001b[1;32m    677\u001b[0m \u001b[0;34m\u001b[0m\u001b[0m\n\u001b[1;32m    678\u001b[0m     \u001b[0mparser_f\u001b[0m\u001b[0;34m.\u001b[0m\u001b[0m__name__\u001b[0m \u001b[0;34m=\u001b[0m \u001b[0mname\u001b[0m\u001b[0;34m\u001b[0m\u001b[0;34m\u001b[0m\u001b[0m\n",
            "\u001b[0;32m/usr/local/lib/python3.6/dist-packages/pandas/io/parsers.py\u001b[0m in \u001b[0;36m_read\u001b[0;34m(filepath_or_buffer, kwds)\u001b[0m\n\u001b[1;32m    452\u001b[0m \u001b[0;34m\u001b[0m\u001b[0m\n\u001b[1;32m    453\u001b[0m     \u001b[0;32mtry\u001b[0m\u001b[0;34m:\u001b[0m\u001b[0;34m\u001b[0m\u001b[0;34m\u001b[0m\u001b[0m\n\u001b[0;32m--> 454\u001b[0;31m         \u001b[0mdata\u001b[0m \u001b[0;34m=\u001b[0m \u001b[0mparser\u001b[0m\u001b[0;34m.\u001b[0m\u001b[0mread\u001b[0m\u001b[0;34m(\u001b[0m\u001b[0mnrows\u001b[0m\u001b[0;34m)\u001b[0m\u001b[0;34m\u001b[0m\u001b[0;34m\u001b[0m\u001b[0m\n\u001b[0m\u001b[1;32m    455\u001b[0m     \u001b[0;32mfinally\u001b[0m\u001b[0;34m:\u001b[0m\u001b[0;34m\u001b[0m\u001b[0;34m\u001b[0m\u001b[0m\n\u001b[1;32m    456\u001b[0m         \u001b[0mparser\u001b[0m\u001b[0;34m.\u001b[0m\u001b[0mclose\u001b[0m\u001b[0;34m(\u001b[0m\u001b[0;34m)\u001b[0m\u001b[0;34m\u001b[0m\u001b[0;34m\u001b[0m\u001b[0m\n",
            "\u001b[0;32m/usr/local/lib/python3.6/dist-packages/pandas/io/parsers.py\u001b[0m in \u001b[0;36mread\u001b[0;34m(self, nrows)\u001b[0m\n\u001b[1;32m   1131\u001b[0m     \u001b[0;32mdef\u001b[0m \u001b[0mread\u001b[0m\u001b[0;34m(\u001b[0m\u001b[0mself\u001b[0m\u001b[0;34m,\u001b[0m \u001b[0mnrows\u001b[0m\u001b[0;34m=\u001b[0m\u001b[0;32mNone\u001b[0m\u001b[0;34m)\u001b[0m\u001b[0;34m:\u001b[0m\u001b[0;34m\u001b[0m\u001b[0;34m\u001b[0m\u001b[0m\n\u001b[1;32m   1132\u001b[0m         \u001b[0mnrows\u001b[0m \u001b[0;34m=\u001b[0m \u001b[0m_validate_integer\u001b[0m\u001b[0;34m(\u001b[0m\u001b[0;34m\"nrows\"\u001b[0m\u001b[0;34m,\u001b[0m \u001b[0mnrows\u001b[0m\u001b[0;34m)\u001b[0m\u001b[0;34m\u001b[0m\u001b[0;34m\u001b[0m\u001b[0m\n\u001b[0;32m-> 1133\u001b[0;31m         \u001b[0mret\u001b[0m \u001b[0;34m=\u001b[0m \u001b[0mself\u001b[0m\u001b[0;34m.\u001b[0m\u001b[0m_engine\u001b[0m\u001b[0;34m.\u001b[0m\u001b[0mread\u001b[0m\u001b[0;34m(\u001b[0m\u001b[0mnrows\u001b[0m\u001b[0;34m)\u001b[0m\u001b[0;34m\u001b[0m\u001b[0;34m\u001b[0m\u001b[0m\n\u001b[0m\u001b[1;32m   1134\u001b[0m \u001b[0;34m\u001b[0m\u001b[0m\n\u001b[1;32m   1135\u001b[0m         \u001b[0;31m# May alter columns / col_dict\u001b[0m\u001b[0;34m\u001b[0m\u001b[0;34m\u001b[0m\u001b[0;34m\u001b[0m\u001b[0m\n",
            "\u001b[0;32m/usr/local/lib/python3.6/dist-packages/pandas/io/parsers.py\u001b[0m in \u001b[0;36mread\u001b[0;34m(self, nrows)\u001b[0m\n\u001b[1;32m   2035\u001b[0m     \u001b[0;32mdef\u001b[0m \u001b[0mread\u001b[0m\u001b[0;34m(\u001b[0m\u001b[0mself\u001b[0m\u001b[0;34m,\u001b[0m \u001b[0mnrows\u001b[0m\u001b[0;34m=\u001b[0m\u001b[0;32mNone\u001b[0m\u001b[0;34m)\u001b[0m\u001b[0;34m:\u001b[0m\u001b[0;34m\u001b[0m\u001b[0;34m\u001b[0m\u001b[0m\n\u001b[1;32m   2036\u001b[0m         \u001b[0;32mtry\u001b[0m\u001b[0;34m:\u001b[0m\u001b[0;34m\u001b[0m\u001b[0;34m\u001b[0m\u001b[0m\n\u001b[0;32m-> 2037\u001b[0;31m             \u001b[0mdata\u001b[0m \u001b[0;34m=\u001b[0m \u001b[0mself\u001b[0m\u001b[0;34m.\u001b[0m\u001b[0m_reader\u001b[0m\u001b[0;34m.\u001b[0m\u001b[0mread\u001b[0m\u001b[0;34m(\u001b[0m\u001b[0mnrows\u001b[0m\u001b[0;34m)\u001b[0m\u001b[0;34m\u001b[0m\u001b[0;34m\u001b[0m\u001b[0m\n\u001b[0m\u001b[1;32m   2038\u001b[0m         \u001b[0;32mexcept\u001b[0m \u001b[0mStopIteration\u001b[0m\u001b[0;34m:\u001b[0m\u001b[0;34m\u001b[0m\u001b[0;34m\u001b[0m\u001b[0m\n\u001b[1;32m   2039\u001b[0m             \u001b[0;32mif\u001b[0m \u001b[0mself\u001b[0m\u001b[0;34m.\u001b[0m\u001b[0m_first_chunk\u001b[0m\u001b[0;34m:\u001b[0m\u001b[0;34m\u001b[0m\u001b[0;34m\u001b[0m\u001b[0m\n",
            "\u001b[0;32mpandas/_libs/parsers.pyx\u001b[0m in \u001b[0;36mpandas._libs.parsers.TextReader.read\u001b[0;34m()\u001b[0m\n",
            "\u001b[0;32mpandas/_libs/parsers.pyx\u001b[0m in \u001b[0;36mpandas._libs.parsers.TextReader._read_low_memory\u001b[0;34m()\u001b[0m\n",
            "\u001b[0;32mpandas/_libs/parsers.pyx\u001b[0m in \u001b[0;36mpandas._libs.parsers.TextReader._read_rows\u001b[0;34m()\u001b[0m\n",
            "\u001b[0;32mpandas/_libs/parsers.pyx\u001b[0m in \u001b[0;36mpandas._libs.parsers.TextReader._tokenize_rows\u001b[0;34m()\u001b[0m\n",
            "\u001b[0;32mpandas/_libs/parsers.pyx\u001b[0m in \u001b[0;36mpandas._libs.parsers.raise_parser_error\u001b[0;34m()\u001b[0m\n",
            "\u001b[0;31mParserError\u001b[0m: Error tokenizing data. C error: Expected 1 fields in line 49, saw 2\n"
          ]
        }
      ]
    },
    {
      "cell_type": "code",
      "metadata": {
        "trusted": true,
        "id": "tm-Nzvqm568k",
        "colab_type": "code",
        "colab": {
          "base_uri": "https://localhost:8080/",
          "height": 230
        },
        "outputId": "1dc60678-3f5c-4581-a681-3c633df4c1ef"
      },
      "source": [
        "# Loading files from kaggle Database\n",
        "COVID_India.rename(columns={'Name of State / UT':'State/UnionTerritory','Cured/Discharged/Migrated':'Cured'},inplace=True)\n",
        "COVID_India['Date']=COVID_India['Date'].apply(lambda x:x.replace('-','/'))\n",
        "Latest_date=list(COVID_India['Date'])[-1]"
      ],
      "execution_count": 4,
      "outputs": [
        {
          "output_type": "error",
          "ename": "NameError",
          "evalue": "ignored",
          "traceback": [
            "\u001b[0;31m---------------------------------------------------------------------------\u001b[0m",
            "\u001b[0;31mNameError\u001b[0m                                 Traceback (most recent call last)",
            "\u001b[0;32m<ipython-input-4-7e59952c007d>\u001b[0m in \u001b[0;36m<module>\u001b[0;34m()\u001b[0m\n\u001b[1;32m      1\u001b[0m \u001b[0;31m# Loading files from kaggle Database\u001b[0m\u001b[0;34m\u001b[0m\u001b[0;34m\u001b[0m\u001b[0;34m\u001b[0m\u001b[0m\n\u001b[0;32m----> 2\u001b[0;31m \u001b[0mCOVID_India\u001b[0m\u001b[0;34m.\u001b[0m\u001b[0mrename\u001b[0m\u001b[0;34m(\u001b[0m\u001b[0mcolumns\u001b[0m\u001b[0;34m=\u001b[0m\u001b[0;34m{\u001b[0m\u001b[0;34m'Name of State / UT'\u001b[0m\u001b[0;34m:\u001b[0m\u001b[0;34m'State/UnionTerritory'\u001b[0m\u001b[0;34m,\u001b[0m\u001b[0;34m'Cured/Discharged/Migrated'\u001b[0m\u001b[0;34m:\u001b[0m\u001b[0;34m'Cured'\u001b[0m\u001b[0;34m}\u001b[0m\u001b[0;34m,\u001b[0m\u001b[0minplace\u001b[0m\u001b[0;34m=\u001b[0m\u001b[0;32mTrue\u001b[0m\u001b[0;34m)\u001b[0m\u001b[0;34m\u001b[0m\u001b[0;34m\u001b[0m\u001b[0m\n\u001b[0m\u001b[1;32m      3\u001b[0m \u001b[0mCOVID_India\u001b[0m\u001b[0;34m[\u001b[0m\u001b[0;34m'Date'\u001b[0m\u001b[0;34m]\u001b[0m\u001b[0;34m=\u001b[0m\u001b[0mCOVID_India\u001b[0m\u001b[0;34m[\u001b[0m\u001b[0;34m'Date'\u001b[0m\u001b[0;34m]\u001b[0m\u001b[0;34m.\u001b[0m\u001b[0mapply\u001b[0m\u001b[0;34m(\u001b[0m\u001b[0;32mlambda\u001b[0m \u001b[0mx\u001b[0m\u001b[0;34m:\u001b[0m\u001b[0mx\u001b[0m\u001b[0;34m.\u001b[0m\u001b[0mreplace\u001b[0m\u001b[0;34m(\u001b[0m\u001b[0;34m'-'\u001b[0m\u001b[0;34m,\u001b[0m\u001b[0;34m'/'\u001b[0m\u001b[0;34m)\u001b[0m\u001b[0;34m)\u001b[0m\u001b[0;34m\u001b[0m\u001b[0;34m\u001b[0m\u001b[0m\n\u001b[1;32m      4\u001b[0m \u001b[0mLatest_date\u001b[0m\u001b[0;34m=\u001b[0m\u001b[0mlist\u001b[0m\u001b[0;34m(\u001b[0m\u001b[0mCOVID_India\u001b[0m\u001b[0;34m[\u001b[0m\u001b[0;34m'Date'\u001b[0m\u001b[0;34m]\u001b[0m\u001b[0;34m)\u001b[0m\u001b[0;34m[\u001b[0m\u001b[0;34m-\u001b[0m\u001b[0;36m1\u001b[0m\u001b[0;34m]\u001b[0m\u001b[0;34m\u001b[0m\u001b[0;34m\u001b[0m\u001b[0m\n",
            "\u001b[0;31mNameError\u001b[0m: name 'COVID_India' is not defined"
          ]
        }
      ]
    },
    {
      "cell_type": "code",
      "metadata": {
        "trusted": true,
        "id": "aMsvaZTu568t",
        "colab_type": "code",
        "colab": {
          "base_uri": "https://localhost:8080/",
          "height": 174
        },
        "outputId": "c8cdabc0-0d49-4970-ff82-0d2c725c0155"
      },
      "source": [
        "COVID_confirmed.info()"
      ],
      "execution_count": 5,
      "outputs": [
        {
          "output_type": "error",
          "ename": "NameError",
          "evalue": "ignored",
          "traceback": [
            "\u001b[0;31m---------------------------------------------------------------------------\u001b[0m",
            "\u001b[0;31mNameError\u001b[0m                                 Traceback (most recent call last)",
            "\u001b[0;32m<ipython-input-5-df74cca874f6>\u001b[0m in \u001b[0;36m<module>\u001b[0;34m()\u001b[0m\n\u001b[0;32m----> 1\u001b[0;31m \u001b[0mCOVID_confirmed\u001b[0m\u001b[0;34m.\u001b[0m\u001b[0minfo\u001b[0m\u001b[0;34m(\u001b[0m\u001b[0;34m)\u001b[0m\u001b[0;34m\u001b[0m\u001b[0;34m\u001b[0m\u001b[0m\n\u001b[0m",
            "\u001b[0;31mNameError\u001b[0m: name 'COVID_confirmed' is not defined"
          ]
        }
      ]
    },
    {
      "cell_type": "code",
      "metadata": {
        "trusted": true,
        "id": "VjYk07KA5681",
        "colab_type": "code",
        "colab": {
          "base_uri": "https://localhost:8080/",
          "height": 193
        },
        "outputId": "fe72df39-a6dd-4308-c031-8fba27803ba0"
      },
      "source": [
        "COVID_confirmed['3/23/20'].fillna(0,inplace=True)\n",
        "COVID_confirmed['3/23/20'].astype('int64')"
      ],
      "execution_count": 6,
      "outputs": [
        {
          "output_type": "error",
          "ename": "NameError",
          "evalue": "ignored",
          "traceback": [
            "\u001b[0;31m---------------------------------------------------------------------------\u001b[0m",
            "\u001b[0;31mNameError\u001b[0m                                 Traceback (most recent call last)",
            "\u001b[0;32m<ipython-input-6-741903771fdb>\u001b[0m in \u001b[0;36m<module>\u001b[0;34m()\u001b[0m\n\u001b[0;32m----> 1\u001b[0;31m \u001b[0mCOVID_confirmed\u001b[0m\u001b[0;34m[\u001b[0m\u001b[0;34m'3/23/20'\u001b[0m\u001b[0;34m]\u001b[0m\u001b[0;34m.\u001b[0m\u001b[0mfillna\u001b[0m\u001b[0;34m(\u001b[0m\u001b[0;36m0\u001b[0m\u001b[0;34m,\u001b[0m\u001b[0minplace\u001b[0m\u001b[0;34m=\u001b[0m\u001b[0;32mTrue\u001b[0m\u001b[0;34m)\u001b[0m\u001b[0;34m\u001b[0m\u001b[0;34m\u001b[0m\u001b[0m\n\u001b[0m\u001b[1;32m      2\u001b[0m \u001b[0mCOVID_confirmed\u001b[0m\u001b[0;34m[\u001b[0m\u001b[0;34m'3/23/20'\u001b[0m\u001b[0;34m]\u001b[0m\u001b[0;34m.\u001b[0m\u001b[0mastype\u001b[0m\u001b[0;34m(\u001b[0m\u001b[0;34m'int64'\u001b[0m\u001b[0;34m)\u001b[0m\u001b[0;34m\u001b[0m\u001b[0;34m\u001b[0m\u001b[0m\n",
            "\u001b[0;31mNameError\u001b[0m: name 'COVID_confirmed' is not defined"
          ]
        }
      ]
    },
    {
      "cell_type": "code",
      "metadata": {
        "trusted": true,
        "id": "GdFGgr-X568_",
        "colab_type": "code",
        "colab": {}
      },
      "source": [
        "COVID_confirmed.head()"
      ],
      "execution_count": null,
      "outputs": []
    },
    {
      "cell_type": "code",
      "metadata": {
        "trusted": true,
        "id": "JDcMEupn569D",
        "colab_type": "code",
        "colab": {}
      },
      "source": [
        "COVID_India.head()"
      ],
      "execution_count": null,
      "outputs": []
    },
    {
      "cell_type": "markdown",
      "metadata": {
        "id": "rQyLCGiG569K",
        "colab_type": "text"
      },
      "source": [
        "## Visualization"
      ]
    },
    {
      "cell_type": "markdown",
      "metadata": {
        "id": "56g7XXuF569L",
        "colab_type": "text"
      },
      "source": [
        "#### Plotly Python Open Source Graphing Library https://plot.ly/python/"
      ]
    },
    {
      "cell_type": "code",
      "metadata": {
        "trusted": true,
        "id": "0HpSSzYa569O",
        "colab_type": "code",
        "colab": {}
      },
      "source": [
        "#Transposing Data for confirmed cases\n",
        "COVID_confirmed_T=COVID_confirmed.T\n",
        "COVID_confirmed_T.drop(index=['Lat','Long','Province/State'],inplace=True)\n",
        "COVID_confirmed_T.columns=COVID_confirmed_T.iloc[0]\n",
        "COVID_confirmed_T=COVID_confirmed_T[1:]\n",
        "COVID_confirmed_T.set_index(COVID_confirmed_T.index.map(lambda x: pd.to_datetime(x, errors='ignore')),inplace=True)\n",
        "COVID_confirmed_T['Global']=COVID_confirmed.sum()[2:]\n",
        "COVID_confirmed_T.head()\n",
        "\n",
        "#Transposing Data for Death\n",
        "COVID_death_T=COVID_death.T\n",
        "COVID_death_T.drop(index=['Lat','Long','Province/State'],inplace=True)\n",
        "COVID_death_T.columns=COVID_death_T.iloc[0]\n",
        "COVID_death_T=COVID_death_T[1:]\n",
        "COVID_death_T['Global']=COVID_death.sum()[2:]\n",
        "COVID_death_T.set_index(COVID_death_T.index.map(lambda x: pd.to_datetime(x, errors='ignore')),inplace=True)\n",
        "\n",
        "#Transposing Data for Recovered\n",
        "COVID_recovered_T=COVID_recovered.T\n",
        "COVID_recovered_T.drop(index=['Lat','Long','Province/State'],inplace=True)\n",
        "COVID_recovered_T.columns=COVID_recovered_T.iloc[0]\n",
        "COVID_recovered_T=COVID_recovered_T[1:]\n",
        "COVID_recovered_T['Global']=COVID_recovered.sum()[2:]\n",
        "COVID_recovered_T.set_index(COVID_recovered_T.index.map(lambda x: pd.to_datetime(x, errors='ignore')),inplace=True)"
      ],
      "execution_count": null,
      "outputs": []
    },
    {
      "cell_type": "markdown",
      "metadata": {
        "id": "eW-6TkKg569V",
        "colab_type": "text"
      },
      "source": [
        "## Coronavirus COVID-19: Global"
      ]
    },
    {
      "cell_type": "code",
      "metadata": {
        "trusted": true,
        "id": "g9zKKClY569W",
        "colab_type": "code",
        "colab": {}
      },
      "source": [
        "fig = go.Figure()\n",
        "fig.add_trace(\n",
        "    go.Scatter(x=COVID_confirmed_T.index, y=COVID_confirmed.sum()[2:],name='Confirmed: Global',line=dict(color='blue')))\n",
        "fig.add_trace(\n",
        "    go.Scatter(x=COVID_death_T.index, y=COVID_death.sum()[2:],name='Death: Global',line=dict(color='red')))\n",
        "fig.add_trace(\n",
        "    go.Scatter(x=COVID_recovered_T.index, y=COVID_recovered.sum()[2:],name='Recovered: Global',line=dict(color='green')))\n",
        "fig.show()"
      ],
      "execution_count": null,
      "outputs": []
    },
    {
      "cell_type": "code",
      "metadata": {
        "trusted": true,
        "id": "T2anRwsK569e",
        "colab_type": "code",
        "colab": {}
      },
      "source": [
        "import plotly.graph_objects as go\n",
        "fig = go.Figure()\n",
        "fig.add_trace(\n",
        "    go.Scatter(x=COVID_confirmed_T.index, y=COVID_confirmed_T['India'],name='Confirmed: India',line=dict(color='blue')))\n",
        "fig.add_trace(\n",
        "    go.Scatter(x=COVID_death_T.index, y=COVID_death_T['India'],name='Death: India',line=dict(color='red')))\n",
        "fig.add_trace(\n",
        "    go.Scatter(x=COVID_recovered_T.index, y=COVID_recovered_T['India'],name='Recovered: India',line=dict(color='green')))\n",
        "fig.show()"
      ],
      "execution_count": null,
      "outputs": []
    },
    {
      "cell_type": "markdown",
      "metadata": {
        "id": "4Ja80TFx569l",
        "colab_type": "text"
      },
      "source": [
        "## Coronavirus COVID-19 India VS other countries"
      ]
    },
    {
      "cell_type": "code",
      "metadata": {
        "trusted": true,
        "id": "CAKfJ5-G569o",
        "colab_type": "code",
        "colab": {}
      },
      "source": [
        "import plotly.graph_objects as go\n",
        "fig = go.Figure()\n",
        "fig.add_trace(\n",
        "    go.Bar(x=COVID_confirmed_T.index, y=COVID_confirmed_T['India'],name='Confirmed: India'))\n",
        "fig.add_trace(\n",
        "    go.Bar(x=COVID_confirmed_T.index, y=COVID_confirmed_T['Italy'],name='Confirmed: Italy'))\n",
        "fig.add_trace(\n",
        "    go.Bar(x=COVID_confirmed_T.index, y=COVID_confirmed_T['Spain'],name='Confirmed: Spain'))\n",
        "fig.show()"
      ],
      "execution_count": null,
      "outputs": []
    },
    {
      "cell_type": "markdown",
      "metadata": {
        "id": "dEYrcSiv5690",
        "colab_type": "text"
      },
      "source": [
        "## Coronavirus COVID-19 India Statewise"
      ]
    },
    {
      "cell_type": "code",
      "metadata": {
        "trusted": true,
        "id": "tH8cRIUz5691",
        "colab_type": "code",
        "colab": {}
      },
      "source": [
        "COVID_India"
      ],
      "execution_count": null,
      "outputs": []
    },
    {
      "cell_type": "code",
      "metadata": {
        "trusted": true,
        "id": "dgLp5hcJ5696",
        "colab_type": "code",
        "colab": {}
      },
      "source": [
        "COVID_India_=COVID_India[COVID_India['Date']==Latest_date].sort_values(by='Total Confirmed cases')"
      ],
      "execution_count": null,
      "outputs": []
    },
    {
      "cell_type": "code",
      "metadata": {
        "trusted": true,
        "id": "4yeEuLQe56-F",
        "colab_type": "code",
        "colab": {}
      },
      "source": [
        "import plotly.express as px\n",
        "import plotly.graph_objects as go\n",
        "\n",
        "fig = go.Figure()\n",
        "\n",
        "fig = px.bar(title='COVID-19: India')\n",
        "\n",
        "fig.add_trace(go.Bar(\n",
        "    y=COVID_India_['State/UnionTerritory'],\n",
        "    x=COVID_India_['Total Confirmed cases'],\n",
        "    name='Confirmed',\n",
        "    orientation='h',\n",
        "    marker=dict(\n",
        "        color='rgb(0, 60, 179)',\n",
        "        line=dict(color='black')\n",
        "    )\n",
        "))\n",
        "\n",
        "fig.add_trace(go.Bar(\n",
        "    y=COVID_India_['State/UnionTerritory'],\n",
        "    x=COVID_India_['Cured'],\n",
        "    name='Cured',\n",
        "    orientation='h',\n",
        "    marker=dict(\n",
        "        color='green',\n",
        "        line=dict(color='black')\n",
        "    )\n",
        "))\n",
        "\n",
        "fig.add_trace(go.Bar(\n",
        "    y=COVID_India_['State/UnionTerritory'],\n",
        "    x=COVID_India_['Death'],\n",
        "    name='Death',\n",
        "    orientation='h',\n",
        "    marker=dict(\n",
        "        color='rgb(179, 0, 0)',\n",
        "        line=dict(color='black')\n",
        "    )\n",
        "))\n",
        "fig.update_layout(barmode='stack')\n",
        "fig.show()"
      ],
      "execution_count": null,
      "outputs": []
    },
    {
      "cell_type": "code",
      "metadata": {
        "trusted": true,
        "id": "Cpc2rRP156-K",
        "colab_type": "code",
        "colab": {}
      },
      "source": [
        "COVID_India_"
      ],
      "execution_count": null,
      "outputs": []
    },
    {
      "cell_type": "code",
      "metadata": {
        "trusted": true,
        "id": "mTaPw6xT56-R",
        "colab_type": "code",
        "colab": {}
      },
      "source": [
        "state_label=list(COVID_India_['State/UnionTerritory'].unique())\n",
        "labels=[]\n",
        "state=[]\n",
        "values=[]\n",
        "country=[]\n",
        "for i in state_label:\n",
        "    country.extend(('India','India','India'))\n",
        "    labels.extend(('Confirmed','Cured','Death'))\n",
        "    state.extend([i,i,i])\n",
        "    values.extend([int(COVID_India_[COVID_India_['State/UnionTerritory']==i]['Total Confirmed cases']),\n",
        "                 int(COVID_India_[COVID_India_['State/UnionTerritory']==i]['Cured']),\n",
        "                 int(COVID_India_[COVID_India_['State/UnionTerritory']==i]['Death'])])"
      ],
      "execution_count": null,
      "outputs": []
    },
    {
      "cell_type": "code",
      "metadata": {
        "trusted": true,
        "id": "IoDGYylf56-V",
        "colab_type": "code",
        "colab": {}
      },
      "source": [
        "import plotly.graph_objects as go\n",
        "df = pd.DataFrame(dict(C=country,L=labels, S=state, V=values))\n",
        "\n",
        "fig = px.sunburst(df, path=['C','S','L'], values='V')\n",
        "\n",
        "fig.update_layout(\n",
        "    margin = dict(t=5, l=5, r=5, b=5)\n",
        ")\n",
        "fig.update_layout(title_text=\"COVID-19: India\",\n",
        "                  title_font_size=20)\n",
        "fig.data[0].marker.line.width = 1\n",
        "fig.data[0].marker.line.color = \"white\"\n",
        "#fig.update_layout(uniformtext=dict(minsize=10))\n",
        "fig.update_traces(\n",
        "        go.Sunburst(hovertemplate='<b>%{label} </b><b>%{value:,.0f}</b>'),\n",
        "        insidetextorientation='radial',       \n",
        "    )\n",
        "fig.show()"
      ],
      "execution_count": null,
      "outputs": []
    },
    {
      "cell_type": "code",
      "metadata": {
        "trusted": true,
        "id": "dfyJX_jf56-d",
        "colab_type": "code",
        "colab": {}
      },
      "source": [
        "date_index2 = pd.date_range('1/30/2020', periods=len(COVID_India.groupby('Date').sum().index), freq='D')\n",
        "\n",
        "fig = px.line(title='COVID-19: India')\n",
        "fig.add_trace(go.Line(y= COVID_India.groupby('Date').sum()[\"Total Confirmed cases\"],x=date_index2,name='Confirmed'))\n",
        "fig.add_trace(go.Line(y= COVID_India.groupby('Date').sum()[\"Cured\"],x=date_index2,name='Cured'))\n",
        "fig.add_trace(go.Line(y= COVID_India.groupby('Date').sum()[\"Death\"],x=date_index2,name='Death'))\n",
        "fig.show()"
      ],
      "execution_count": null,
      "outputs": []
    },
    {
      "cell_type": "code",
      "metadata": {
        "trusted": true,
        "id": "exwaZ4El56-i",
        "colab_type": "code",
        "colab": {}
      },
      "source": [
        "# Latitude & longtitude detected using google.geocoder\n",
        "# Already added columns into csv file\n",
        "lat_long={'Andhra Pradesh':[15.9240905,80.1863809],\n",
        "'Delhi'\t:[28.6517178\t,77.2219388],\n",
        "'Haryana':\t[29,\t76],\n",
        "'Karnataka'\t:[14.5203896\t,75.7223521],\n",
        "'Kerala'\t:[10.3528744,\t76.5120396],\n",
        "'Maharashtra':[\t19.531932,\t76.0554568],\n",
        "'Odisha'\t:[20.5431241\t,84.6897321],\n",
        "'Punjab':\t[30.9293211,\t75.5004841],\n",
        "'Rajasthan'\t:[26.8105777,\t73.7684549],\n",
        "'Tamil Nadu'\t:[10.9094334\t,78.3665347],\n",
        "'Telengana':\t[17.329125\t,78.5822228],\n",
        "'Union Territory of Jammu and Kashmir':\t[33.91667,\t76.66667],\n",
        "'Union Territory of Ladakh':\t[34.33333\t,77.41667],\n",
        "'Uttar Pradesh'\t:[27.1303344\t,80.859666],\n",
        "'Uttarakhand'\t:[30.09199355,\t79.32176659]}\n",
        "\n",
        "# Created Latitude & Longtitude columns for Folium Map\n",
        "#COVID_India['Latitude']=COVID_India['State/UnionTerritory'].apply(lambda x : lat_long[x][0])\n",
        "#COVID_India['Longtitude']=COVID_India['State/UnionTerritory'].apply(lambda x : lat_long[x][1])\n",
        "#COVID_India"
      ],
      "execution_count": null,
      "outputs": []
    },
    {
      "cell_type": "code",
      "metadata": {
        "trusted": true,
        "id": "eElozD1y56-o",
        "colab_type": "code",
        "colab": {}
      },
      "source": [
        "import plotly.graph_objects as go\n",
        "fig = go.Figure()\n",
        "fig.add_trace(\n",
        "    go.Scatter(x=COVID_India['Date'], y=COVID_India[COVID_India['State/UnionTerritory']=='Maharashtra']['Total Confirmed cases'],name='Confirmed: India',line=dict(color='blue')))"
      ],
      "execution_count": null,
      "outputs": []
    },
    {
      "cell_type": "markdown",
      "metadata": {
        "id": "Id4fomrU56-v",
        "colab_type": "text"
      },
      "source": [
        "# Folium Map Visualization with Date Slider"
      ]
    },
    {
      "cell_type": "markdown",
      "metadata": {
        "id": "bPZsYy9q56-w",
        "colab_type": "text"
      },
      "source": [
        "## Coronavirus COVID-19: India"
      ]
    },
    {
      "cell_type": "code",
      "metadata": {
        "trusted": true,
        "id": "_VfmRp9k56-w",
        "colab_type": "code",
        "colab": {}
      },
      "source": [
        "COVID_India_dates=list(COVID_India['Date'].unique())\n",
        "COVID_India_state=list(COVID_India['State/UnionTerritory'].unique())\n",
        "def rad_india(i):\n",
        "    x = (i>150000 and 30) or(i>50000 and 20) or (i>10000 and 10) or (i>50000 and 5) or 1\n",
        "    return(x)\n",
        "\n",
        "# Folium plugins\n",
        "from folium import IFrame\n",
        "from folium.plugins import MarkerCluster\n",
        "from folium.plugins import HeatMapWithTime\n",
        "from folium.plugins import TimestampedGeoJson    \n",
        "from IPython.display import display\n",
        "\n",
        "# Define initial location\n",
        "map_India = folium.Map(\n",
        "    location=[28.7041, 77.1025],\n",
        "    tiles='cartodbdark_matter',\n",
        "    zoom_start=5\n",
        ")\n",
        "\n",
        "# Storing coordinates, popup, time in features list\n",
        "\n",
        "features=[{'type': 'Feature',\n",
        "         'geometry': {'type': 'Point','coordinates': [COVID_India['Longitude'][col], COVID_India['Latitude'][col]]},\n",
        "         'properties': {'time': COVID_India['Date'][col],'icon': 'circle','iconstyle': {'fillColor': 'red','fillOpacity': 0.6,'stroke': 'false',\n",
        "         'radius': rad_india(COVID_India['Total Confirmed cases'][col])},'style': {'weight': 0},'popup':'<b>State:{}<br>Confirmed:{}<br><b>Cured:{}<br>Death:{}'.format(COVID_India['State/UnionTerritory'][col],COVID_India['Total Confirmed cases'][col],COVID_India['Cured'][col],COVID_India['Death'][col])}}\n",
        "          for col in range(COVID_India.shape[0])]\n",
        "\n",
        "TimestampedGeoJson(\n",
        "            {'type': 'FeatureCollection', 'features': features},\n",
        "            period='P1D',\n",
        "            auto_play=False,\n",
        "            min_speed=3,\n",
        "            max_speed=4,\n",
        "            loop=False,\n",
        "            loop_button=True,\n",
        "            date_options='DD-MM-YYYY',\n",
        "            ).add_to(map_India)\n",
        "\n",
        "map_India                                                                                     "
      ],
      "execution_count": null,
      "outputs": []
    },
    {
      "cell_type": "markdown",
      "metadata": {
        "id": "bVjraIMg56-4",
        "colab_type": "text"
      },
      "source": [
        "## Coronavirus COVID-19: Global"
      ]
    },
    {
      "cell_type": "code",
      "metadata": {
        "trusted": true,
        "id": "DpxXx4wH56-5",
        "colab_type": "code",
        "colab": {}
      },
      "source": [
        "#TimestampedGeoJson Date input\n",
        "\n",
        "COVID_dates= list(COVID_confirmed.columns[30:])\n",
        "\n",
        "def rad_global(i):\n",
        "    x = (i>1000000 and 30) or(i>500000 and 20) or (i>200000 and 15) or (i>100000 and 10)or (i>10000 and 5) or 2\n",
        "    return(x)\n",
        "\n",
        "# Folium plugins\n",
        "from folium import IFrame\n",
        "from folium.plugins import MarkerCluster\n",
        "from folium.plugins import HeatMapWithTime\n",
        "from folium.plugins import TimestampedGeoJson    \n",
        "from IPython.display import display\n",
        "\n",
        "# Define initial location\n",
        "map_world = folium.Map(\n",
        "    location=[28.7041, 77.1025],\n",
        "    tiles='cartodbdark_matter',\n",
        "    zoom_start=3,\n",
        ")\n",
        "\n",
        "# Storing coordinates, popup, time in features list\n",
        "\n",
        "features=[{'type': 'Feature',\n",
        "         'geometry': {'type': 'Point','coordinates':[COVID_confirmed['Long'][col],COVID_confirmed['Lat'][col]]},\n",
        "         'properties': {'time': date,'icon': 'circle','iconstyle': {'fillColor': 'red','fillOpacity': 0.6,'stroke': 'false',\n",
        "         'radius': rad_global(COVID_confirmed[date][col])},'style': {'weight': 0},'popup':'<b>Country:{}</b><br>Confirmed:{}<br>Death:{}'\n",
        "         .format(COVID_confirmed['Country/Region'][col],COVID_confirmed[date][col],COVID_death[date][col])}}\n",
        "         for date in COVID_dates for col in range(COVID_confirmed.shape[0]) if (COVID_confirmed[date][col])>0]\n",
        "        \n",
        "TimestampedGeoJson(\n",
        "            {'type': 'FeatureCollection', 'features': features},\n",
        "            period='P1D',\n",
        "            auto_play=False,\n",
        "            min_speed=1,\n",
        "            max_speed=1,\n",
        "            loop=False,\n",
        "            loop_button=True,\n",
        "            date_options='DD-MM-YYYY',\n",
        "            ).add_to(map_world)\n",
        "\n",
        "map_world          "
      ],
      "execution_count": null,
      "outputs": []
    },
    {
      "cell_type": "markdown",
      "metadata": {
        "trusted": true,
        "id": "sNyXhzOp56_A",
        "colab_type": "text"
      },
      "source": [
        "### Clustering as per country\n",
        "map_world = folium.Map(location=[28.7041, 77.1025], zoom_start=3)\n",
        "\n",
        "for i in range(len(arr)):\n",
        "    mc = MarkerCluster(name='1000 clustered icons',overlay=True,control=False,icon_create_function=None)\n",
        "    for k in arr[i]:\n",
        "        #location = COVID_confirmed['Lat'][k], COVID_confirmed['Long'][k]\n",
        "        marker = folium.Marker(location=[COVID_confirmed['Lat'][k],COVID_confirmed['Long'][k]])\n",
        "        popup = '<b>Country:{}</b><br>Confirmed:{}<br>Death:{}<br>Recovered:{}'.format(COVID_confirmed['Country/Region'][k],COVID_confirmed['03-04-2020'][k],COVID_death['03-04-2020'][k],COVID_recovered['03-04-2020'][k])\n",
        "        folium.Popup(popup).add_to(marker)\n",
        "        marker.add_to(mc)\n",
        "        mc.add_to(map_world) "
      ]
    },
    {
      "cell_type": "markdown",
      "metadata": {
        "trusted": true,
        "id": "oMRSdGyg56_B",
        "colab_type": "text"
      },
      "source": [
        "## Sayōnara"
      ]
    }
  ]
}