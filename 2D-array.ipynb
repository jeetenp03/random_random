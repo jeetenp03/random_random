{
 "cells": [
  {
   "cell_type": "markdown",
   "metadata": {},
   "source": [
    "# 2D Array - DS"
   ]
  },
  {
   "cell_type": "markdown",
   "metadata": {},
   "source": [
    "https://www.hackerrank.com/challenges/2d-array/problem?h_l=interview&playlist_slugs%5B%5D=interview-preparation-kit&playlist_slugs%5B%5D=arrays"
   ]
  },
  {
   "cell_type": "code",
   "execution_count": null,
   "metadata": {},
   "outputs": [],
   "source": [
    "#input\n",
    "arr=[[1, 1, 1, 0, 0, 0], [0, 1, 0, 0, 0, 0], [1, 1, 1, 0, 0, 0], [0, 0, 2, 4, 4, 0], [0, 0, 0, 2, 0, 0], [0, 0, 1, 2, 4, 0]]"
   ]
  },
  {
   "cell_type": "code",
   "execution_count": 348,
   "metadata": {},
   "outputs": [
    {
     "name": "stdout",
     "output_type": "stream",
     "text": [
      "19\n"
     ]
    }
   ],
   "source": [
    "suum=[]\n",
    "matrix=[]\n",
    "dummy=[]\n",
    "for i in range(4):\n",
    "    for j in range(4):\n",
    "        matrix.append([arr[i][j:j+3],arr[i+1][j+1],arr[i+2][j:j+3]])\n",
    "        suum.append([sum(arr[i][j:j+3]),arr[i+1][j+1],sum(arr[i+2][j:j+3])])\n",
    "\n",
    "for k in suum:\n",
    "    dummy.append(sum(k))\n",
    "print(max(dummy))"
   ]
  },
  {
   "cell_type": "code",
   "execution_count": 347,
   "metadata": {},
   "outputs": [
    {
     "data": {
      "text/plain": [
       "[[[1, 1, 1], 1, [1, 1, 1]],\n",
       " [[1, 1, 0], 0, [1, 1, 0]],\n",
       " [[1, 0, 0], 0, [1, 0, 0]],\n",
       " [[0, 0, 0], 0, [0, 0, 0]],\n",
       " [[0, 1, 0], 1, [0, 0, 2]],\n",
       " [[1, 0, 0], 1, [0, 2, 4]],\n",
       " [[0, 0, 0], 0, [2, 4, 4]],\n",
       " [[0, 0, 0], 0, [4, 4, 0]],\n",
       " [[1, 1, 1], 0, [0, 0, 0]],\n",
       " [[1, 1, 0], 2, [0, 0, 2]],\n",
       " [[1, 0, 0], 4, [0, 2, 0]],\n",
       " [[0, 0, 0], 4, [2, 0, 0]],\n",
       " [[0, 0, 2], 0, [0, 0, 1]],\n",
       " [[0, 2, 4], 0, [0, 1, 2]],\n",
       " [[2, 4, 4], 2, [1, 2, 4]],\n",
       " [[4, 4, 0], 0, [2, 4, 0]]]"
      ]
     },
     "execution_count": 347,
     "metadata": {},
     "output_type": "execute_result"
    }
   ],
   "source": [
    "matrix"
   ]
  }
 ],
 "metadata": {
  "kernelspec": {
   "display_name": "Python 3",
   "language": "python",
   "name": "python3"
  },
  "language_info": {
   "codemirror_mode": {
    "name": "ipython",
    "version": 3
   },
   "file_extension": ".py",
   "mimetype": "text/x-python",
   "name": "python",
   "nbconvert_exporter": "python",
   "pygments_lexer": "ipython3",
   "version": "3.7.4"
  }
 },
 "nbformat": 4,
 "nbformat_minor": 2
}
